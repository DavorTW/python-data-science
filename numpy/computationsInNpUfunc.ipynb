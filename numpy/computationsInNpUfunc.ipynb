{
 "cells": [
  {
   "cell_type": "code",
   "execution_count": 1,
   "id": "066138b4-dd0a-491c-bc28-1cc8bdc91af4",
   "metadata": {},
   "outputs": [],
   "source": [
    "#Computations in numpy: Universal functions"
   ]
  },
  {
   "cell_type": "code",
   "execution_count": 2,
   "id": "eb38f0ba-8c2a-4f09-9e2c-2c3e819989e3",
   "metadata": {},
   "outputs": [],
   "source": [
    "#Numpy ufuncs can be unary and binary meaining they need 1 or 2 inputs\n",
    "#Array arithmetic ufuncs\n",
    "\n",
    "import numpy as np"
   ]
  },
  {
   "cell_type": "code",
   "execution_count": 6,
   "id": "63009261-78ce-4d87-b6ca-71be0481520e",
   "metadata": {},
   "outputs": [
    {
     "data": {
      "text/plain": [
       "array([0, 1, 2, 3])"
      ]
     },
     "execution_count": 6,
     "metadata": {},
     "output_type": "execute_result"
    }
   ],
   "source": [
    "x = np.arange(4)\n",
    "x"
   ]
  },
  {
   "cell_type": "code",
   "execution_count": 7,
   "id": "2d9acfb0-378a-4e7b-8ce9-033b8925e6ee",
   "metadata": {},
   "outputs": [
    {
     "name": "stdout",
     "output_type": "stream",
     "text": [
      "x     =  [0 1 2 3]\n",
      "x + 5 =  [5 6 7 8]\n",
      "x - 5 =  [-5 -4 -3 -2]\n",
      "x * 2 =  [0 2 4 6]\n",
      "x / 2 =  [0.  0.5 1.  1.5]\n",
      "x // 2 =  [0 0 1 1]\n"
     ]
    }
   ],
   "source": [
    "print(\"x     = \",x)\n",
    "print(\"x + 5 = \",x + 5)\n",
    "print(\"x - 5 = \",x - 5)\n",
    "print(\"x * 2 = \",x * 2)\n",
    "print(\"x / 2 = \",x / 2)\n",
    "print(\"x // 2 = \",x // 2) #floor division"
   ]
  },
  {
   "cell_type": "code",
   "execution_count": 8,
   "id": "bc81a95d-76d6-4bc7-98a3-46745bb87bf9",
   "metadata": {},
   "outputs": [
    {
     "name": "stdout",
     "output_type": "stream",
     "text": [
      "-x      =  [ 0 -1 -2 -3]\n",
      " x ** 2 =  [0 1 4 9]\n",
      " x % 2  =  [0 1 0 1]\n"
     ]
    }
   ],
   "source": [
    "print(\"-x      = \", -x)\n",
    "print(\" x ** 2 = \", x ** 2)\n",
    "print(\" x % 2  = \", x % 2)"
   ]
  },
  {
   "cell_type": "code",
   "execution_count": null,
   "id": "7000a424-3229-4617-a603-d1ea4d2fcf64",
   "metadata": {},
   "outputs": [],
   "source": []
  }
 ],
 "metadata": {
  "kernelspec": {
   "display_name": "Python 3 (ipykernel)",
   "language": "python",
   "name": "python3"
  },
  "language_info": {
   "codemirror_mode": {
    "name": "ipython",
    "version": 3
   },
   "file_extension": ".py",
   "mimetype": "text/x-python",
   "name": "python",
   "nbconvert_exporter": "python",
   "pygments_lexer": "ipython3",
   "version": "3.12.7"
  }
 },
 "nbformat": 4,
 "nbformat_minor": 5
}
