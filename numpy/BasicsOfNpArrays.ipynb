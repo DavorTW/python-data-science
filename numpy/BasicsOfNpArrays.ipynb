{
 "cells": [
  {
   "cell_type": "code",
   "execution_count": 2,
   "id": "a9222b85-9092-444e-b2a8-fa5ea5920a12",
   "metadata": {},
   "outputs": [],
   "source": [
    "#Numpy array attributes\n",
    "import numpy as np\n",
    "np.random.seed(0) #seed for reproducibility\n",
    "\n",
    "x1 = np.random.randint(10, size=6) #one-dimensional array\n",
    "x2 = np.random.randint(10, size=(3, 4)) #two-dimensional array\n",
    "x3 = np.random.randint(10, size=(3, 4, 5)) #three-dimensional array"
   ]
  },
  {
   "cell_type": "code",
   "execution_count": 3,
   "id": "ba4ad3bf-541f-4062-9312-f671cc150432",
   "metadata": {},
   "outputs": [
    {
     "name": "stdout",
     "output_type": "stream",
     "text": [
      "x3 ndim:  3\n",
      "x3 shape:  (3, 4, 5)\n",
      "x3 size:  60\n"
     ]
    }
   ],
   "source": [
    "print(\"x3 ndim: \", x3.ndim)\n",
    "print(\"x3 shape: \", x3.shape)\n",
    "print(\"x3 size: \", x3.size)"
   ]
  },
  {
   "cell_type": "code",
   "execution_count": 4,
   "id": "08db0c38-d6f0-4efd-9d76-0b1df7224f04",
   "metadata": {},
   "outputs": [
    {
     "name": "stdout",
     "output_type": "stream",
     "text": [
      "dtype: int64\n"
     ]
    }
   ],
   "source": [
    "print(\"dtype:\", x3.dtype)"
   ]
  },
  {
   "cell_type": "code",
   "execution_count": 5,
   "id": "7cf31839-3ce9-4fcc-a832-7c70b9464566",
   "metadata": {},
   "outputs": [
    {
     "name": "stdout",
     "output_type": "stream",
     "text": [
      "itemsize:  8 bytes\n",
      "nbytes:  480 bytes\n"
     ]
    }
   ],
   "source": [
    "print(\"itemsize: \", x3.itemsize, \"bytes\") #size of each element of the array in bytes\n",
    "print(\"nbytes: \", x3.nbytes, \"bytes\") #total size of the array in bytes"
   ]
  },
  {
   "cell_type": "code",
   "execution_count": 6,
   "id": "40e82681-6385-474c-8d31-a88abf6a3bad",
   "metadata": {},
   "outputs": [
    {
     "data": {
      "text/plain": [
       "array([5, 0, 3, 3, 7, 9])"
      ]
     },
     "execution_count": 6,
     "metadata": {},
     "output_type": "execute_result"
    }
   ],
   "source": [
    "#Array indexing: accessing single elements\n",
    "x1"
   ]
  },
  {
   "cell_type": "code",
   "execution_count": 7,
   "id": "7722acc9-d98e-45f5-8cab-d1832133c9ff",
   "metadata": {},
   "outputs": [
    {
     "data": {
      "text/plain": [
       "5"
      ]
     },
     "execution_count": 7,
     "metadata": {},
     "output_type": "execute_result"
    }
   ],
   "source": [
    "x1[0]"
   ]
  },
  {
   "cell_type": "code",
   "execution_count": 8,
   "id": "63ce7ad2-b56a-43c5-a032-2b87d7ba14d7",
   "metadata": {},
   "outputs": [
    {
     "data": {
      "text/plain": [
       "array([[3, 5, 2, 4],\n",
       "       [7, 6, 8, 8],\n",
       "       [1, 6, 7, 7]])"
      ]
     },
     "execution_count": 8,
     "metadata": {},
     "output_type": "execute_result"
    }
   ],
   "source": [
    "#in multi-dimensional arrays:\n",
    "x2"
   ]
  },
  {
   "cell_type": "code",
   "execution_count": 9,
   "id": "046a4bd8-671e-4e11-86e5-c8350288bc4f",
   "metadata": {},
   "outputs": [
    {
     "data": {
      "text/plain": [
       "3"
      ]
     },
     "execution_count": 9,
     "metadata": {},
     "output_type": "execute_result"
    }
   ],
   "source": [
    "x2[0,0]"
   ]
  },
  {
   "cell_type": "code",
   "execution_count": 10,
   "id": "9be47706-8db3-406d-b90b-90640a1eb701",
   "metadata": {},
   "outputs": [
    {
     "data": {
      "text/plain": [
       "7"
      ]
     },
     "execution_count": 10,
     "metadata": {},
     "output_type": "execute_result"
    }
   ],
   "source": [
    "x2[2, -1]"
   ]
  },
  {
   "cell_type": "code",
   "execution_count": 11,
   "id": "9a48e11c-ef42-46c5-9ebc-5a71afddf86a",
   "metadata": {},
   "outputs": [
    {
     "data": {
      "text/plain": [
       "array([[12,  5,  2,  4],\n",
       "       [ 7,  6,  8,  8],\n",
       "       [ 1,  6,  7,  7]])"
      ]
     },
     "execution_count": 11,
     "metadata": {},
     "output_type": "execute_result"
    }
   ],
   "source": [
    "#values can be modified the same way \n",
    "x2[0, 0] = 12\n",
    "x2"
   ]
  },
  {
   "cell_type": "code",
   "execution_count": 12,
   "id": "38aab376-03e8-4f83-9a0e-b9c59ab9a7a4",
   "metadata": {},
   "outputs": [],
   "source": [
    "#array slicing: accessing subarrays"
   ]
  },
  {
   "cell_type": "code",
   "execution_count": 14,
   "id": "c04fc15e-6b11-40fa-95b1-6260b25a6501",
   "metadata": {},
   "outputs": [
    {
     "data": {
      "text/plain": [
       "array([0, 1, 2, 3, 4, 5, 6, 7, 8, 9])"
      ]
     },
     "execution_count": 14,
     "metadata": {},
     "output_type": "execute_result"
    }
   ],
   "source": [
    "x = np.arange(10)\n",
    "x"
   ]
  },
  {
   "cell_type": "code",
   "execution_count": 17,
   "id": "1bf66e52-e0c5-4b54-b63c-081eea8e2d72",
   "metadata": {},
   "outputs": [
    {
     "data": {
      "text/plain": [
       "array([0, 1, 2, 3, 4])"
      ]
     },
     "execution_count": 17,
     "metadata": {},
     "output_type": "execute_result"
    }
   ],
   "source": [
    "x[:5] #first five elements"
   ]
  },
  {
   "cell_type": "code",
   "execution_count": 18,
   "id": "6e45915f-1a55-461c-8bbc-b2733f3d758f",
   "metadata": {},
   "outputs": [
    {
     "data": {
      "text/plain": [
       "array([5, 6, 7, 8, 9])"
      ]
     },
     "execution_count": 18,
     "metadata": {},
     "output_type": "execute_result"
    }
   ],
   "source": [
    "x[5:] #elements after the 5th element"
   ]
  },
  {
   "cell_type": "code",
   "execution_count": 19,
   "id": "73803281-5b18-42b5-8beb-a41c27a4b15c",
   "metadata": {},
   "outputs": [
    {
     "data": {
      "text/plain": [
       "array([1, 3, 5, 7, 9])"
      ]
     },
     "execution_count": 19,
     "metadata": {},
     "output_type": "execute_result"
    }
   ],
   "source": [
    "x[1::2] #every other element starting at index 1"
   ]
  },
  {
   "cell_type": "code",
   "execution_count": 20,
   "id": "e6324843-85c2-4d3b-9d56-a0de367d6d4c",
   "metadata": {},
   "outputs": [
    {
     "data": {
      "text/plain": [
       "array([9, 8, 7, 6, 5, 4, 3, 2, 1, 0])"
      ]
     },
     "execution_count": 20,
     "metadata": {},
     "output_type": "execute_result"
    }
   ],
   "source": [
    "x[::-1] #all elements reversed"
   ]
  },
  {
   "cell_type": "code",
   "execution_count": 21,
   "id": "fb41ab60-150b-44a4-8544-8e15e584529a",
   "metadata": {},
   "outputs": [
    {
     "data": {
      "text/plain": [
       "array([[12,  5,  2],\n",
       "       [ 7,  6,  8]])"
      ]
     },
     "execution_count": 21,
     "metadata": {},
     "output_type": "execute_result"
    }
   ],
   "source": [
    "#Multidimensional arrays\n",
    "x2[:2, :3] #two rows three columns"
   ]
  },
  {
   "cell_type": "code",
   "execution_count": 22,
   "id": "abfa6ac7-b44c-4f0a-91c3-1d73f44ab7fd",
   "metadata": {},
   "outputs": [
    {
     "data": {
      "text/plain": [
       "array([[12,  2],\n",
       "       [ 7,  8],\n",
       "       [ 1,  7]])"
      ]
     },
     "execution_count": 22,
     "metadata": {},
     "output_type": "execute_result"
    }
   ],
   "source": [
    "x2[0:, ::2] #all rows, every other columns"
   ]
  },
  {
   "cell_type": "code",
   "execution_count": 23,
   "id": "d76416c9-bccb-4c11-a866-092d691f4e48",
   "metadata": {},
   "outputs": [
    {
     "data": {
      "text/plain": [
       "array([[ 7,  7,  6,  1],\n",
       "       [ 8,  8,  6,  7],\n",
       "       [ 4,  2,  5, 12]])"
      ]
     },
     "execution_count": 23,
     "metadata": {},
     "output_type": "execute_result"
    }
   ],
   "source": [
    "x2[::-1, ::-1] #reverse all together"
   ]
  },
  {
   "cell_type": "code",
   "execution_count": 24,
   "id": "a964acf4-be02-427c-aed1-f717b2e5a4e8",
   "metadata": {},
   "outputs": [
    {
     "data": {
      "text/plain": [
       "array([12,  7,  1])"
      ]
     },
     "execution_count": 24,
     "metadata": {},
     "output_type": "execute_result"
    }
   ],
   "source": [
    "#accesing single rows and columns using slicing and index notation mix\n",
    "x2[:, 0] #accesing first column"
   ]
  },
  {
   "cell_type": "code",
   "execution_count": 25,
   "id": "9b191424-2f86-4ebe-84c1-f0f1327e83f6",
   "metadata": {},
   "outputs": [
    {
     "data": {
      "text/plain": [
       "array([12,  5,  2,  4])"
      ]
     },
     "execution_count": 25,
     "metadata": {},
     "output_type": "execute_result"
    }
   ],
   "source": [
    "x2[0, :] #accessing first row"
   ]
  },
  {
   "cell_type": "code",
   "execution_count": 26,
   "id": "1ba8fe63-6e57-4bd3-87c4-dd4d71b70ca2",
   "metadata": {},
   "outputs": [
    {
     "data": {
      "text/plain": [
       "array([12,  5,  2,  4])"
      ]
     },
     "execution_count": 26,
     "metadata": {},
     "output_type": "execute_result"
    }
   ],
   "source": [
    "x2[0] #equivalent to x2[0, :]"
   ]
  },
  {
   "cell_type": "code",
   "execution_count": 30,
   "id": "b28e15e0-b710-46c2-9926-28682d9c858b",
   "metadata": {},
   "outputs": [
    {
     "name": "stdout",
     "output_type": "stream",
     "text": [
      "[[12  5]\n",
      " [ 7  6]]\n"
     ]
    }
   ],
   "source": [
    "#subarrays are no-copy views of the original array\n",
    "#changes in the view will affect the original\n",
    "#we can explicitly copy arrays to avoid this behavior\n",
    "x2_sub = x2[:2, :2].copy()\n",
    "print(x2_sub)"
   ]
  },
  {
   "cell_type": "code",
   "execution_count": 31,
   "id": "d11a1440-ec6e-45bd-8442-74f3047fa52b",
   "metadata": {},
   "outputs": [
    {
     "name": "stdout",
     "output_type": "stream",
     "text": [
      "[[99  5]\n",
      " [ 7  6]]\n",
      "[[12  5  2  4]\n",
      " [ 7  6  8  8]\n",
      " [ 1  6  7  7]]\n"
     ]
    }
   ],
   "source": [
    "x2_sub[0,0] = 99\n",
    "print(x2_sub)\n",
    "print(x2)"
   ]
  },
  {
   "cell_type": "code",
   "execution_count": 32,
   "id": "e6f5282c-da00-4b0a-bf23-00989a99cfa8",
   "metadata": {},
   "outputs": [],
   "source": [
    "#reshaping arrays\n",
    "grid = np.arange(1,10).reshape(3,3) #the reshape dimension need to match the reshaped array"
   ]
  },
  {
   "cell_type": "code",
   "execution_count": 33,
   "id": "3a2b6f4b-16f2-4682-a725-35710c571f5e",
   "metadata": {},
   "outputs": [
    {
     "data": {
      "text/plain": [
       "array([[1, 2, 3],\n",
       "       [4, 5, 6],\n",
       "       [7, 8, 9]])"
      ]
     },
     "execution_count": 33,
     "metadata": {},
     "output_type": "execute_result"
    }
   ],
   "source": [
    "grid"
   ]
  },
  {
   "cell_type": "code",
   "execution_count": 35,
   "id": "b259b7ae-e248-4a78-b60a-6ca86f858d51",
   "metadata": {},
   "outputs": [
    {
     "data": {
      "text/plain": [
       "array([[1, 2, 3]])"
      ]
     },
     "execution_count": 35,
     "metadata": {},
     "output_type": "execute_result"
    }
   ],
   "source": [
    "#conversion of onedimensional array to multidimensional array\n",
    "x = np.array([1,2,3])\n",
    "\n",
    "#row vector via reshape\n",
    "x.reshape((1,3))"
   ]
  },
  {
   "cell_type": "code",
   "execution_count": 37,
   "id": "dda18998-975d-49e2-9721-a5007f5692e0",
   "metadata": {},
   "outputs": [
    {
     "data": {
      "text/plain": [
       "1"
      ]
     },
     "execution_count": 37,
     "metadata": {},
     "output_type": "execute_result"
    }
   ],
   "source": [
    "x.ndim"
   ]
  },
  {
   "cell_type": "code",
   "execution_count": 38,
   "id": "481a65e0-95bb-4133-9d67-b67ba2508d84",
   "metadata": {},
   "outputs": [
    {
     "data": {
      "text/plain": [
       "array([[1, 2, 3]])"
      ]
     },
     "execution_count": 38,
     "metadata": {},
     "output_type": "execute_result"
    }
   ],
   "source": [
    "#row vector via new axis\n",
    "x[np.newaxis, :]"
   ]
  },
  {
   "cell_type": "code",
   "execution_count": 41,
   "id": "b5ff13c6-47b8-4314-b7c9-7c389ced49a9",
   "metadata": {},
   "outputs": [
    {
     "data": {
      "text/plain": [
       "(3,)"
      ]
     },
     "execution_count": 41,
     "metadata": {},
     "output_type": "execute_result"
    }
   ],
   "source": [
    "x.shape"
   ]
  },
  {
   "cell_type": "code",
   "execution_count": 42,
   "id": "3873dd8a-be6d-4134-9ebf-7a6ed07d71d6",
   "metadata": {},
   "outputs": [
    {
     "data": {
      "text/plain": [
       "array([[1],\n",
       "       [2],\n",
       "       [3]])"
      ]
     },
     "execution_count": 42,
     "metadata": {},
     "output_type": "execute_result"
    }
   ],
   "source": [
    "#column vector via reshape\n",
    "x.reshape((3,1))"
   ]
  },
  {
   "cell_type": "code",
   "execution_count": 43,
   "id": "55bb1111-c728-4299-9b74-d0140c65d2d7",
   "metadata": {},
   "outputs": [
    {
     "data": {
      "text/plain": [
       "(3,)"
      ]
     },
     "execution_count": 43,
     "metadata": {},
     "output_type": "execute_result"
    }
   ],
   "source": [
    "x.shape"
   ]
  },
  {
   "cell_type": "code",
   "execution_count": 45,
   "id": "6f2da726-ad5b-4a38-bc2f-12459bd458cc",
   "metadata": {},
   "outputs": [
    {
     "data": {
      "text/plain": [
       "1"
      ]
     },
     "execution_count": 45,
     "metadata": {},
     "output_type": "execute_result"
    }
   ],
   "source": [
    "x.ndim"
   ]
  },
  {
   "cell_type": "code",
   "execution_count": 46,
   "id": "e8e3343e-5236-45ec-8a99-94c2e66b53f4",
   "metadata": {},
   "outputs": [
    {
     "data": {
      "text/plain": [
       "array([[1],\n",
       "       [2],\n",
       "       [3]])"
      ]
     },
     "execution_count": 46,
     "metadata": {},
     "output_type": "execute_result"
    }
   ],
   "source": [
    "#column vector via newaxis\n",
    "x[:, np.newaxis]"
   ]
  },
  {
   "cell_type": "code",
   "execution_count": 47,
   "id": "f7727708-8d58-4f33-a0c4-8a3ee8281b09",
   "metadata": {},
   "outputs": [
    {
     "data": {
      "text/plain": [
       "array([1, 2, 3, 3, 4, 5])"
      ]
     },
     "execution_count": 47,
     "metadata": {},
     "output_type": "execute_result"
    }
   ],
   "source": [
    "#array concatenation\n",
    "x = np.array([1,2,3])\n",
    "y = np.array([3,4,5])\n",
    "np.concatenate([x,y])"
   ]
  },
  {
   "cell_type": "code",
   "execution_count": 48,
   "id": "3a0497ab-51cd-440c-a81b-cd9010c0de35",
   "metadata": {},
   "outputs": [
    {
     "data": {
      "text/plain": [
       "array([ 1,  2,  3,  3,  4,  5, 99, 99, 99])"
      ]
     },
     "execution_count": 48,
     "metadata": {},
     "output_type": "execute_result"
    }
   ],
   "source": [
    "z = np.array([99,99,99])\n",
    "np.concatenate([x,y,z])"
   ]
  },
  {
   "cell_type": "code",
   "execution_count": 49,
   "id": "aa7c2d09-5eae-4272-9d89-c0d2e4ca7079",
   "metadata": {},
   "outputs": [
    {
     "data": {
      "text/plain": [
       "array([[9, 8, 7],\n",
       "       [6, 5, 4],\n",
       "       [9, 8, 7],\n",
       "       [6, 5, 4]])"
      ]
     },
     "execution_count": 49,
     "metadata": {},
     "output_type": "execute_result"
    }
   ],
   "source": [
    "#concatenate multidimensional array\n",
    "grid = np.array([[9,8,7],\n",
    "                 [6,5,4]])\n",
    "np.concatenate([grid,grid])"
   ]
  },
  {
   "cell_type": "code",
   "execution_count": 50,
   "id": "0729fc84-9003-455e-8e88-8c3cef0df023",
   "metadata": {},
   "outputs": [
    {
     "data": {
      "text/plain": [
       "array([[9, 8, 7, 9, 8, 7],\n",
       "       [6, 5, 4, 6, 5, 4]])"
      ]
     },
     "execution_count": 50,
     "metadata": {},
     "output_type": "execute_result"
    }
   ],
   "source": [
    "#concatenate along the second axis\n",
    "np.concatenate([grid,grid], axis = 1)"
   ]
  },
  {
   "cell_type": "code",
   "execution_count": 51,
   "id": "638752a0-4014-4b90-ab61-61dbc815702f",
   "metadata": {},
   "outputs": [
    {
     "data": {
      "text/plain": [
       "array([[1, 2, 3],\n",
       "       [9, 8, 7],\n",
       "       [6, 5, 4]])"
      ]
     },
     "execution_count": 51,
     "metadata": {},
     "output_type": "execute_result"
    }
   ],
   "source": [
    "#vertically stack arrays\n",
    "np.vstack([x,grid])"
   ]
  },
  {
   "cell_type": "code",
   "execution_count": 52,
   "id": "6cef893f-2cb6-4568-ad1f-57d47674e6b2",
   "metadata": {},
   "outputs": [
    {
     "data": {
      "text/plain": [
       "array([[ 9,  8,  7, 99],\n",
       "       [ 6,  5,  4, 99]])"
      ]
     },
     "execution_count": 52,
     "metadata": {},
     "output_type": "execute_result"
    }
   ],
   "source": [
    "#horizontally stack the arrays\n",
    "y = np.array([[99],\n",
    "              [99]])\n",
    "np.hstack([grid, y])"
   ]
  },
  {
   "cell_type": "code",
   "execution_count": 57,
   "id": "625a0b31-77ac-45e2-bbfa-fac094c47681",
   "metadata": {},
   "outputs": [
    {
     "name": "stdout",
     "output_type": "stream",
     "text": [
      "[1 2 3] [99 99] [3 2 1]\n"
     ]
    }
   ],
   "source": [
    "#splitting arrays\n",
    "x = np.array([1,2,3,99,99,3,2,1])\n",
    "x1, x2, x3 = np.split(x, [3,5])\n",
    "print(x1,x2,x3)"
   ]
  },
  {
   "cell_type": "code",
   "execution_count": 61,
   "id": "c934c19f-19d5-4943-b563-a422134b282d",
   "metadata": {},
   "outputs": [
    {
     "data": {
      "text/plain": [
       "array([[ 0,  1,  2,  3],\n",
       "       [ 4,  5,  6,  7],\n",
       "       [ 8,  9, 10, 11],\n",
       "       [12, 13, 14, 15]])"
      ]
     },
     "execution_count": 61,
     "metadata": {},
     "output_type": "execute_result"
    }
   ],
   "source": [
    "#spltting vertically and horizontally\n",
    "grid = np.arange(16).reshape((4,4))\n",
    "grid"
   ]
  },
  {
   "cell_type": "code",
   "execution_count": 65,
   "id": "ac3b2cbd-a937-4ad7-9f35-fe9309f9725b",
   "metadata": {},
   "outputs": [
    {
     "name": "stdout",
     "output_type": "stream",
     "text": [
      "[[0 1 2 3]\n",
      " [4 5 6 7]]\n",
      "[[ 8  9 10 11]\n",
      " [12 13 14 15]]\n"
     ]
    }
   ],
   "source": [
    "upper, lower = np.vsplit(grid, [2])\n",
    "print(upper)\n",
    "print(lower)"
   ]
  },
  {
   "cell_type": "code",
   "execution_count": 66,
   "id": "3856a13e-82fb-460e-8aa0-b809e5c823e9",
   "metadata": {},
   "outputs": [
    {
     "name": "stdout",
     "output_type": "stream",
     "text": [
      "[[ 2  3]\n",
      " [ 6  7]\n",
      " [10 11]\n",
      " [14 15]]\n",
      "[[ 0  1]\n",
      " [ 4  5]\n",
      " [ 8  9]\n",
      " [12 13]]\n"
     ]
    }
   ],
   "source": [
    "left, right = np.hsplit(grid, [2])\n",
    "print(right)\n",
    "print(left)"
   ]
  },
  {
   "cell_type": "code",
   "execution_count": null,
   "id": "e9a59c5b-11c9-4631-b3d0-a66a67dac703",
   "metadata": {},
   "outputs": [],
   "source": []
  }
 ],
 "metadata": {
  "kernelspec": {
   "display_name": "Python 3 (ipykernel)",
   "language": "python",
   "name": "python3"
  },
  "language_info": {
   "codemirror_mode": {
    "name": "ipython",
    "version": 3
   },
   "file_extension": ".py",
   "mimetype": "text/x-python",
   "name": "python",
   "nbconvert_exporter": "python",
   "pygments_lexer": "ipython3",
   "version": "3.12.7"
  }
 },
 "nbformat": 4,
 "nbformat_minor": 5
}
